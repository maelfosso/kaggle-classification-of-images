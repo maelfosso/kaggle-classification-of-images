{
 "cells": [
  {
   "cell_type": "code",
   "execution_count": 77,
   "id": "initial_id",
   "metadata": {
    "collapsed": true,
    "ExecuteTime": {
     "end_time": "2023-08-17T01:36:34.275987Z",
     "start_time": "2023-08-17T01:36:34.194467Z"
    }
   },
   "outputs": [],
   "source": [
    "import tensorflow as tf\n",
    "import pandas as pd\n",
    "import numpy as np\n",
    "import matplotlib.pyplot as plt\n",
    "import PIL.Image\n",
    "import os"
   ]
  },
  {
   "cell_type": "code",
   "execution_count": 3,
   "outputs": [
    {
     "data": {
      "text/plain": "(4576, 2)"
     },
     "execution_count": 3,
     "metadata": {},
     "output_type": "execute_result"
    }
   ],
   "source": [
    "df_train = pd.read_csv('../inputs/train.csv')\n",
    "df_train.shape"
   ],
   "metadata": {
    "collapsed": false,
    "ExecuteTime": {
     "end_time": "2023-08-17T00:51:01.962604Z",
     "start_time": "2023-08-17T00:51:01.944820Z"
    }
   },
   "id": "17a1f1d18f7ac026"
  },
  {
   "cell_type": "code",
   "execution_count": 183,
   "outputs": [
    {
     "name": "stdout",
     "output_type": "stream",
     "text": [
      "image9354.jpg tf.Tensor(b'Food', shape=(), dtype=string)\n",
      "image9161.jpg tf.Tensor(b'Food', shape=(), dtype=string)\n",
      "image557.jpg tf.Tensor(b'Attire', shape=(), dtype=string)\n"
     ]
    }
   ],
   "source": [
    "train_ds = tf.data.Dataset.from_tensor_slices((df_train.Image, df_train.Class))\n",
    "for x, y in train_ds.take(3):\n",
    "    print(x.numpy().decode(\"utf-8\"), y)"
   ],
   "metadata": {
    "collapsed": false,
    "ExecuteTime": {
     "end_time": "2023-08-17T02:42:18.278582Z",
     "start_time": "2023-08-17T02:42:18.231995Z"
    }
   },
   "id": "c0b441e4c3426ecc"
  },
  {
   "cell_type": "code",
   "execution_count": 246,
   "outputs": [
    {
     "name": "stdout",
     "output_type": "stream",
     "text": [
      "(1, 235, 80, 3) tf.Tensor(b'Food', shape=(), dtype=string)\n",
      "(1, 235, 80, 3) tf.Tensor(b'Food', shape=(), dtype=string)\n",
      "(1, 235, 80, 3) tf.Tensor(b'Attire', shape=(), dtype=string)\n"
     ]
    }
   ],
   "source": [
    "def load_preproces_image(x):\n",
    "    dir_path = os.path.dirname(os.getcwd())\n",
    "    image_path = os.path.join(dir_path, \"dataset/Train Images\", x.numpy().decode(\"utf-8\"))\n",
    "    image_raw = tf.io.read_file(image_path)\n",
    "    image = tf.image.decode_image(image_raw)\n",
    "    image = tf.image.resize(image, [235, 80]) # resize to max height and max width\n",
    "    image = image / 255.\n",
    "    return image\n",
    "    \n",
    "n_readers = 5\n",
    "\n",
    "preprocessed_image_ds = train_ds.interleave(\n",
    "    lambda x, y: tf.data.Dataset.from_tensors(\n",
    "        (tf.py_function(image_to_array, [x], [tf.float32]), y)\n",
    "    ),\n",
    "    cycle_length=n_readers,\n",
    "    num_parallel_calls=tf.data.AUTOTUNE\n",
    ")\n",
    "for x, y in preprocessed_image_ds.take(3):\n",
    "    print(x.shape, y)"
   ],
   "metadata": {
    "collapsed": false,
    "ExecuteTime": {
     "end_time": "2023-08-17T03:56:18.790364Z",
     "start_time": "2023-08-17T03:56:18.650441Z"
    }
   },
   "id": "ea1e839db3de93c8"
  },
  {
   "cell_type": "code",
   "execution_count": 247,
   "outputs": [],
   "source": [
    "dataset = preprocessed_image_ds.shuffle(20, seed=170892).batch(32).prefetch(1)"
   ],
   "metadata": {
    "collapsed": false,
    "ExecuteTime": {
     "end_time": "2023-08-17T03:56:56.530481Z",
     "start_time": "2023-08-17T03:56:56.485927Z"
    }
   },
   "id": "367dfd5c0231061c"
  },
  {
   "cell_type": "code",
   "execution_count": null,
   "outputs": [],
   "source": [],
   "metadata": {
    "collapsed": false
   },
   "id": "4fb8b1823a5f3849"
  }
 ],
 "metadata": {
  "kernelspec": {
   "display_name": "Python 3",
   "language": "python",
   "name": "python3"
  },
  "language_info": {
   "codemirror_mode": {
    "name": "ipython",
    "version": 2
   },
   "file_extension": ".py",
   "mimetype": "text/x-python",
   "name": "python",
   "nbconvert_exporter": "python",
   "pygments_lexer": "ipython2",
   "version": "2.7.6"
  }
 },
 "nbformat": 4,
 "nbformat_minor": 5
}
