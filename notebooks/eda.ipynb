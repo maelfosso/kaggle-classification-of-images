{
 "cells": [
  {
   "cell_type": "code",
   "execution_count": 26,
   "id": "initial_id",
   "metadata": {
    "collapsed": true,
    "ExecuteTime": {
     "end_time": "2023-08-17T00:20:53.290307Z",
     "start_time": "2023-08-17T00:20:53.269600Z"
    }
   },
   "outputs": [],
   "source": [
    "import pandas as pd\n",
    "from scipy import misc\n",
    "import matplotlib.pyplot as plt\n",
    "import imageio as iio\n",
    "import numpy as np\n",
    "from PIL import Image"
   ]
  },
  {
   "cell_type": "markdown",
   "source": [
    "## Check Class distribution\n",
    "\n",
    "After running `python3 src/split_dataset.py` to create the `train`, `test`, `valid` dataset from the full train dataset (at `dataset/train.csv`), we need to check that the class are correctly distributed between the 3 new datasets."
   ],
   "metadata": {
    "collapsed": false
   },
   "id": "864638ffe31385ea"
  },
  {
   "cell_type": "code",
   "execution_count": 2,
   "outputs": [],
   "source": [
    "data = pd.read_csv(\"../dataset/train.csv\")\n",
    "\n",
    "train = pd.read_csv(\"../inputs/train.csv\")\n",
    "test = pd.read_csv(\"../inputs/test.csv\")\n",
    "valid = pd.read_csv(\"../inputs/valid.csv\")"
   ],
   "metadata": {
    "collapsed": false,
    "ExecuteTime": {
     "end_time": "2023-08-16T23:51:42.348032Z",
     "start_time": "2023-08-16T23:51:42.326490Z"
    }
   },
   "id": "8a4f015e8bf9b12f"
  },
  {
   "cell_type": "code",
   "execution_count": 3,
   "outputs": [
    {
     "name": "stdout",
     "output_type": "stream",
     "text": [
      "(5983, 2)\n",
      "(4576, 2)\n",
      "(599, 2)\n",
      "(808, 2)\n"
     ]
    }
   ],
   "source": [
    "print(data.shape)\n",
    "print(train.shape)\n",
    "print(test.shape)\n",
    "print(valid.shape)"
   ],
   "metadata": {
    "collapsed": false,
    "ExecuteTime": {
     "end_time": "2023-08-16T23:52:14.365375Z",
     "start_time": "2023-08-16T23:52:14.353346Z"
    }
   },
   "id": "a163e0a1bae2cf54"
  },
  {
   "cell_type": "code",
   "execution_count": 8,
   "outputs": [],
   "source": [
    "def normalize_value_count(s):\n",
    "    return s.value_counts(normalize=True) * 100"
   ],
   "metadata": {
    "collapsed": false,
    "ExecuteTime": {
     "end_time": "2023-08-16T23:57:59.749178Z",
     "start_time": "2023-08-16T23:57:59.734862Z"
    }
   },
   "id": "446fb3f92a76cc8b"
  },
  {
   "cell_type": "code",
   "execution_count": 9,
   "outputs": [
    {
     "data": {
      "text/plain": "Class\nFood                    38.074545\nAttire                  28.263413\nmisc                    21.243523\nDecorationandsignage    12.418519\nName: proportion, dtype: float64"
     },
     "execution_count": 9,
     "metadata": {},
     "output_type": "execute_result"
    }
   ],
   "source": [
    "normalize_value_count(data.Class)"
   ],
   "metadata": {
    "collapsed": false,
    "ExecuteTime": {
     "end_time": "2023-08-16T23:58:03.803931Z",
     "start_time": "2023-08-16T23:58:03.795330Z"
    }
   },
   "id": "e3405c7d86769a49"
  },
  {
   "cell_type": "code",
   "execution_count": 10,
   "outputs": [
    {
     "data": {
      "text/plain": "Class\nFood                    38.068182\nAttire                  28.277972\nmisc                    21.241259\nDecorationandsignage    12.412587\nName: proportion, dtype: float64"
     },
     "execution_count": 10,
     "metadata": {},
     "output_type": "execute_result"
    }
   ],
   "source": [
    "normalize_value_count(train.Class)"
   ],
   "metadata": {
    "collapsed": false,
    "ExecuteTime": {
     "end_time": "2023-08-16T23:58:12.308396Z",
     "start_time": "2023-08-16T23:58:12.284021Z"
    }
   },
   "id": "390c6630c62525a"
  },
  {
   "cell_type": "code",
   "execution_count": 11,
   "outputs": [
    {
     "data": {
      "text/plain": "Class\nFood                    38.063439\nAttire                  28.213689\nmisc                    21.202003\nDecorationandsignage    12.520868\nName: proportion, dtype: float64"
     },
     "execution_count": 11,
     "metadata": {},
     "output_type": "execute_result"
    }
   ],
   "source": [
    "normalize_value_count(test.Class)"
   ],
   "metadata": {
    "collapsed": false,
    "ExecuteTime": {
     "end_time": "2023-08-16T23:58:21.987118Z",
     "start_time": "2023-08-16T23:58:21.950444Z"
    }
   },
   "id": "20a137ac9107fb09"
  },
  {
   "cell_type": "code",
   "execution_count": 12,
   "outputs": [
    {
     "data": {
      "text/plain": "Class\nFood                    38.118812\nAttire                  28.217822\nmisc                    21.287129\nDecorationandsignage    12.376238\nName: proportion, dtype: float64"
     },
     "execution_count": 12,
     "metadata": {},
     "output_type": "execute_result"
    }
   ],
   "source": [
    "normalize_value_count(valid.Class)"
   ],
   "metadata": {
    "collapsed": false,
    "ExecuteTime": {
     "end_time": "2023-08-16T23:58:28.367806Z",
     "start_time": "2023-08-16T23:58:28.338546Z"
    }
   },
   "id": "52c2af6fd388f427"
  },
  {
   "cell_type": "markdown",
   "source": [
    "## Image properties"
   ],
   "metadata": {
    "collapsed": false
   },
   "id": "1dcb807c671aab61"
  },
  {
   "cell_type": "code",
   "execution_count": 18,
   "outputs": [
    {
     "name": "stdout",
     "output_type": "stream",
     "text": [
      "image7042.jpg Food\n"
     ]
    }
   ],
   "source": [
    "# Image size\n",
    "x, y = data.iloc[0]\n",
    "print(x, y)"
   ],
   "metadata": {
    "collapsed": false,
    "ExecuteTime": {
     "end_time": "2023-08-17T00:01:26.662637Z",
     "start_time": "2023-08-17T00:01:26.651126Z"
    }
   },
   "id": "dae9950fdaf37979"
  },
  {
   "cell_type": "code",
   "execution_count": 23,
   "outputs": [
    {
     "name": "stdout",
     "output_type": "stream",
     "text": [
      "(120, 80, 3) uint8\n"
     ]
    },
    {
     "name": "stderr",
     "output_type": "stream",
     "text": [
      "/var/folders/wr/cy7q4r6d4jz9c6t208k_b19r0000gn/T/ipykernel_46783/3696287611.py:1: DeprecationWarning: Starting with ImageIO v3 the behavior of this function will switch to that of iio.v3.imread. To keep the current behavior (and make this warning disappear) use `import imageio.v2 as imageio` or call `imageio.v2.imread` directly.\n",
      "  image = imageio.imread(\"../dataset/Train Images/\" + x)\n"
     ]
    }
   ],
   "source": [
    "image = imageio.imread(\"../dataset/Train Images/\" + x)\n",
    "print(image.shape, image.dtype)"
   ],
   "metadata": {
    "collapsed": false,
    "ExecuteTime": {
     "end_time": "2023-08-17T00:16:27.969168Z",
     "start_time": "2023-08-17T00:16:27.944176Z"
    }
   },
   "id": "a06a57a3ba296b0b"
  },
  {
   "cell_type": "code",
   "execution_count": 28,
   "outputs": [
    {
     "name": "stdout",
     "output_type": "stream",
     "text": [
      "(120, 80, 3)\n"
     ]
    }
   ],
   "source": [
    "image = Image.open(\"../dataset/Train Images/\" + x)\n",
    "image_arr = np.array(image)\n",
    "print(image_arr.shape)"
   ],
   "metadata": {
    "collapsed": false,
    "ExecuteTime": {
     "end_time": "2023-08-17T00:21:55.155583Z",
     "start_time": "2023-08-17T00:21:55.122652Z"
    }
   },
   "id": "9143f91a2f77c8c0"
  },
  {
   "cell_type": "code",
   "execution_count": 25,
   "outputs": [
    {
     "data": {
      "text/plain": "<matplotlib.image.AxesImage at 0x11f0ed650>"
     },
     "execution_count": 25,
     "metadata": {},
     "output_type": "execute_result"
    },
    {
     "data": {
      "text/plain": "<Figure size 640x480 with 1 Axes>",
      "image/png": "[encoded data removed]"
     },
     "metadata": {},
     "output_type": "display_data"
    }
   ],
   "source": [
    "plt.imshow(image)"
   ],
   "metadata": {
    "collapsed": false,
    "ExecuteTime": {
     "end_time": "2023-08-17T00:17:43.183525Z",
     "start_time": "2023-08-17T00:17:42.710189Z"
    }
   },
   "id": "b252e314226a6fe0"
  },
  {
   "cell_type": "code",
   "execution_count": null,
   "outputs": [],
   "source": [],
   "metadata": {
    "collapsed": false
   },
   "id": "35156fca34a2e3f5"
  }
 ],
 "metadata": {
  "kernelspec": {
   "display_name": "Python 3",
   "language": "python",
   "name": "python3"
  },
  "language_info": {
   "codemirror_mode": {
    "name": "ipython",
    "version": 2
   },
   "file_extension": ".py",
   "mimetype": "text/x-python",
   "name": "python",
   "nbconvert_exporter": "python",
   "pygments_lexer": "ipython2",
   "version": "2.7.6"
  }
 },
 "nbformat": 4,
 "nbformat_minor": 5
}
